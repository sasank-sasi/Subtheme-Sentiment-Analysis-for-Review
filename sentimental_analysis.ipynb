{
 "cells": [
  {
   "cell_type": "markdown",
   "metadata": {},
   "source": [
    "# Load and Preprocess the Dataset"
   ]
  },
  {
   "cell_type": "code",
   "execution_count": 1,
   "metadata": {},
   "outputs": [
    {
     "name": "stdout",
     "output_type": "stream",
     "text": [
      "                                                  review  \\\n",
      "0      Tires where delivered to the garage of my choi...   \n",
      "1      Easy Tyre Selection Process, Competitive Prici...   \n",
      "2             Very easy to use and good value for money.   \n",
      "3                  Really easy and convenient to arrange   \n",
      "4      It was so easy to select tyre sizes and arrang...   \n",
      "...                                                  ...   \n",
      "10127  I ordered the wrong tyres, however [REDACTED] ...   \n",
      "10128  Good experience, first time I have used [REDAC...   \n",
      "10129  I ordered the tyre I needed on line, booked a ...   \n",
      "10130  Excellent service from point of order to fitti...   \n",
      "10131  Seamless, well managed at both ends. I would r...   \n",
      "\n",
      "                                               subthemes  \n",
      "0      [garage service positive, ease of booking posi...  \n",
      "1      [garage service positive, value for money posi...  \n",
      "2                             [value for money positive]  \n",
      "3                             [ease of booking positive]  \n",
      "4      [location positive, value for money positive, ...  \n",
      "...                                                  ...  \n",
      "10127  [refund positive, delivery punctuality positiv...  \n",
      "10128                       [length of fitting positive]  \n",
      "10129  [location positive, delivery punctuality posit...  \n",
      "10130                                                 []  \n",
      "10131                                                 []  \n",
      "\n",
      "[10132 rows x 2 columns]\n"
     ]
    }
   ],
   "source": [
    "import pandas as pd\n",
    "import csv\n",
    "\n",
    "# Define a function to clean up the subthemes\n",
    "def clean_subthemes(subthemes):\n",
    "    if pd.isnull(subthemes) or subthemes.strip() == '':  # Check if the subthemes is NaN or empty\n",
    "        return []\n",
    "    subthemes = subthemes.split(',')\n",
    "    subthemes = [subtheme.strip() for subtheme in subthemes if subtheme]  # Remove empty strings and strip whitespace\n",
    "    return subthemes\n",
    "\n",
    "# Read the CSV file using the csv module with QUOTE_MINIMAL\n",
    "data = []\n",
    "with open('Evaluation-dataset.csv', 'r') as f:\n",
    "    reader = csv.reader(f, quoting=csv.QUOTE_MINIMAL)\n",
    "    for row in reader:\n",
    "        if len(row) > 1:\n",
    "            review = row[0].strip()\n",
    "            subthemes = ','.join(row[1:]).strip()  # Join the remaining parts as subthemes\n",
    "        else:\n",
    "            review = row[0].strip()\n",
    "            subthemes = \"\"\n",
    "        data.append([review, subthemes])\n",
    "\n",
    "# Convert the data to a DataFrame\n",
    "df = pd.DataFrame(data, columns=['review', 'subthemes'])\n",
    "\n",
    "# Clean up the subthemes\n",
    "df['subthemes'] = df['subthemes'].apply(clean_subthemes)\n",
    "\n",
    "# Display the cleaned DataFrame\n",
    "print(df)\n"
   ]
  },
  {
   "cell_type": "markdown",
   "metadata": {},
   "source": []
  },
  {
   "cell_type": "markdown",
   "metadata": {},
   "source": [
    "# Preprocess the Review Text"
   ]
  },
  {
   "cell_type": "code",
   "execution_count": 2,
   "metadata": {},
   "outputs": [
    {
     "name": "stderr",
     "output_type": "stream",
     "text": [
      "[nltk_data] Downloading package stopwords to\n",
      "[nltk_data]     /Users/sasanksasi/nltk_data...\n",
      "[nltk_data]   Package stopwords is already up-to-date!\n"
     ]
    },
    {
     "name": "stdout",
     "output_type": "stream",
     "text": [
      "                                                  review  \\\n",
      "0      Tires where delivered to the garage of my choi...   \n",
      "1      Easy Tyre Selection Process, Competitive Prici...   \n",
      "2             Very easy to use and good value for money.   \n",
      "3                  Really easy and convenient to arrange   \n",
      "4      It was so easy to select tyre sizes and arrang...   \n",
      "...                                                  ...   \n",
      "10127  I ordered the wrong tyres, however [REDACTED] ...   \n",
      "10128  Good experience, first time I have used [REDAC...   \n",
      "10129  I ordered the tyre I needed on line, booked a ...   \n",
      "10130  Excellent service from point of order to fitti...   \n",
      "10131  Seamless, well managed at both ends. I would r...   \n",
      "\n",
      "                                               subthemes  \\\n",
      "0      [garage service positive, ease of booking posi...   \n",
      "1      [garage service positive, value for money posi...   \n",
      "2                             [value for money positive]   \n",
      "3                             [ease of booking positive]   \n",
      "4      [location positive, value for money positive, ...   \n",
      "...                                                  ...   \n",
      "10127  [refund positive, delivery punctuality positiv...   \n",
      "10128                       [length of fitting positive]   \n",
      "10129  [location positive, delivery punctuality posit...   \n",
      "10130                                                 []   \n",
      "10131                                                 []   \n",
      "\n",
      "                                          cleaned_review  \n",
      "0      tire deliver garage choicethe garage notify de...  \n",
      "1      easy tyre selection process competitive pricin...  \n",
      "2                              easy use good value money  \n",
      "3                         really easy convenient arrange  \n",
      "4      easy select tyre size arrange local fitting pr...  \n",
      "...                                                  ...  \n",
      "10127  order wrong tyre however redact arrange collec...  \n",
      "10128  good experience first time use redact harborne...  \n",
      "10129  order tyre need line book specify time local g...  \n",
      "10130  excellent service point order fit complaint thank  \n",
      "10131           seamless well manage end would recommend  \n",
      "\n",
      "[10132 rows x 3 columns]\n"
     ]
    }
   ],
   "source": [
    "import pandas as pd\n",
    "import re\n",
    "import spacy\n",
    "import nltk\n",
    "from nltk.corpus import stopwords\n",
    "from nltk.tokenize import word_tokenize\n",
    "nltk.download('stopwords')\n",
    "\n",
    "# Load SpaCy model for lemmatization\n",
    "nlp = spacy.load('en_core_web_sm')\n",
    "stop_words = set(stopwords.words('english'))\n",
    "\n",
    "# Define a function to clean up the subthemes\n",
    "def clean_subthemes(subthemes):\n",
    "    if pd.isnull(subthemes) or subthemes.strip() == '':  # Check if the subthemes is NaN or empty\n",
    "        return []\n",
    "    subthemes = subthemes.split(',')\n",
    "    subthemes = [subtheme.strip() for subtheme in subthemes if subtheme]  # Remove empty strings and strip whitespace\n",
    "    return subthemes\n",
    "\n",
    "# Define a function to preprocess text\n",
    "def preprocess_text(text):\n",
    "    # Remove punctuation\n",
    "    text = re.sub(r'[^\\w\\s]', '', text)\n",
    "    # Convert to lowercase\n",
    "    text = text.lower()\n",
    "    # Tokenize text\n",
    "    tokens = word_tokenize(text)\n",
    "    # Remove stopwords\n",
    "    tokens = [word for word in tokens if word not in stop_words]\n",
    "    # Lemmatize tokens\n",
    "    lemmatized_tokens = [token.lemma_ for token in nlp(' '.join(tokens))]\n",
    "    return ' '.join(lemmatized_tokens)\n",
    "\n",
    "# Read the CSV file using the csv module with QUOTE_MINIMAL\n",
    "data = []\n",
    "with open('Evaluation-dataset.csv', 'r') as f:\n",
    "    reader = csv.reader(f, quoting=csv.QUOTE_MINIMAL)\n",
    "    for row in reader:\n",
    "        if len(row) > 1:\n",
    "            review = row[0].strip()\n",
    "            subthemes = ','.join(row[1:]).strip()  # Join the remaining parts as subthemes\n",
    "        else:\n",
    "            review = row[0].strip()\n",
    "            subthemes = \"\"\n",
    "        data.append([review, subthemes])\n",
    "\n",
    "# Convert the data to a DataFrame\n",
    "df = pd.DataFrame(data, columns=['review', 'subthemes'])\n",
    "\n",
    "# Clean up the subthemes\n",
    "df['subthemes'] = df['subthemes'].apply(clean_subthemes)\n",
    "\n",
    "# Apply preprocessing to the review column\n",
    "df['cleaned_review'] = df['review'].apply(preprocess_text)\n",
    "\n",
    "# Display the cleaned DataFrame\n",
    "print(df)\n"
   ]
  },
  {
   "cell_type": "markdown",
   "metadata": {},
   "source": [
    "# Extract Subthemes and Sentiments"
   ]
  },
  {
   "cell_type": "code",
   "execution_count": 3,
   "metadata": {},
   "outputs": [
    {
     "name": "stdout",
     "output_type": "stream",
     "text": [
      "All unique subthemes:\n",
      "advisor/agent service positive\n",
      "wait time positive\n",
      "ease of booking positive\n",
      "clean reception area and free coffee\n",
      "ease of booking negative\n",
      "booking confusion negative\n",
      "length of fitting negative\n",
      "keep it up! Will definitely buy from you again.\n",
      "no issues\n",
      "extra charges negative\n",
      "refund negative\n",
      "staff were courteous\n",
      "call wait time negative\n",
      "change of time negative\n",
      "change of time positive\n",
      "no stock negative\n",
      "value for money positive\n",
      "slick delivery service and good fitter.\n",
      "it feels more transparent than buying from a mechanic based on their opinion.\n",
      "Garage was quick & efficient with fitting of tyres\n",
      "refund timescale negative\n",
      "incorrect tyres sent negative\n",
      "balancing negative\n",
      "tyre agedot code positive\n",
      "length of fitting positive\n",
      "simple booking for fitting procedure.\n",
      "good range and competitive prices on website\n",
      "facilities positive\n",
      "extra charges positive\n",
      "only 8 as the garage was unable to fit the tyres in the allotted time and I had to wait over an hour.\n",
      "recommended a great local shop for fitting\n",
      "discounts positive\n",
      "ability to browse through various makes of tyres before making a decision\n",
      "tyre age/dot code negative\n",
      "good local fitting services\n",
      "good prices\n",
      "cheaper than anything else I have found by some way.\n",
      "late notice negative\n",
      "change of date positive\n",
      "delivery punctuality negative\n",
      "really friendly and efficient service.\n",
      "damage negative\n",
      "Cheapest price\n",
      "call wait time positive\n",
      "telephone help avaiable if required.\n",
      "garage service negative\n",
      "failed payment negative\n",
      "my tyre supplier of choice!.\n",
      "refund not actioned positive\n",
      ")\n",
      "and an excellent service from the garage who fitted the tyre.\n",
      "advisoragent service positive\n",
      "incorrect tyres sent positive\n",
      "balancing positive\n",
      "one tyre with dangerously low air pressure. Asked the garage to top up the tyre and check the other three. They did top up the one tyre but didn't bother to check the others. When I checked the tyres 10 minutes later all four tyres had varying pressures (from 29 to 37.5). I emailed both companies and have not received an apology from either. I will never use Lavender Motors again (they shouldn't be in business) and likely not [REDACTED].com either.\n",
      "booking confusion positive\n",
      "tyre agedot code negative\n",
      "simple to use website\n",
      "good price\n",
      "good communication\n",
      "easy to browse selection of tyres before making a choice\n",
      "wait time negative\n",
      "refund positive\n",
      "won’t be using anyone else.\n",
      "refund timescale positive\n",
      "response time negative\n",
      "failed payment positive\n",
      "no stock positive\n",
      "refund not actioned negative\n",
      "advisor/agent service negative\n",
      "great price.\n",
      "really good prices\n",
      "mobile fitter negative\n",
      "simple fitting procedure\n",
      "the site is easy to use\n",
      "tyre quality negative\n",
      "the process was simple and quick.Regular offers make it easy to find premium tyres at decent prices.\n",
      "wide choice of tyres at great prices including delivery and fitting.\n",
      "and both times have been good experiences.\n",
      "response time positive\n",
      "hassle free\n",
      "discounts negative\n",
      "tyre quality positive\n",
      "fitting took a long time.\n",
      "late notice positive\n",
      "good service\n",
      "Great garage fitted them\n",
      "value for money negative\n",
      "they looked grey and old (but unused) not at all how new tyres normally look. Not surprising when I inspected the 'Dot Date' and it was 4517 (ie tyres manufactured in week 45 of 2017.Queried this with [REDACTED] who told me that they have many different suppliers and do not check the age of the tyres.They could re-order but no guarantee that the replacements would be any newer. Not at all happy and requested a refund which they say they will do.\n",
      "mobile fitter didn't arrive negative\n",
      "prompt deliveries...\n",
      "discount not applied positive\n",
      "garage service positive\n",
      "discount not applied negative\n",
      "faster than dealerships to arrange supply and partnership with ATS works well .\n",
      "advisoragent service negative\n",
      "tje garage i choice to go to in order to have the tyres fitted was nit that good and i certainly will not be using them again.\n",
      "location negative\n",
      "polite staff\n",
      "location positive\n",
      "delivery punctuality positive\n",
      "mobile fitter didn't arrive positive\n",
      "change of date negative\n",
      "mobile fitter positive\n",
      "facilities negative\n",
      "easily navigable web site\n"
     ]
    }
   ],
   "source": [
    "# Extract and print all unique subthemes\n",
    "unique_subthemes = set()\n",
    "for subthemes_list in df['subthemes']:\n",
    "    unique_subthemes.update(subthemes_list)\n",
    "\n",
    "print(\"All unique subthemes:\")\n",
    "for subtheme in unique_subthemes:\n",
    "    print(subtheme)"
   ]
  },
  {
   "cell_type": "code",
   "execution_count": 4,
   "metadata": {},
   "outputs": [
    {
     "name": "stdout",
     "output_type": "stream",
     "text": [
      "                                                  review  \\\n",
      "0      Tires where delivered to the garage of my choi...   \n",
      "1      Easy Tyre Selection Process, Competitive Prici...   \n",
      "2             Very easy to use and good value for money.   \n",
      "3                  Really easy and convenient to arrange   \n",
      "4      It was so easy to select tyre sizes and arrang...   \n",
      "...                                                  ...   \n",
      "10127  I ordered the wrong tyres, however [REDACTED] ...   \n",
      "10128  Good experience, first time I have used [REDAC...   \n",
      "10129  I ordered the tyre I needed on line, booked a ...   \n",
      "10130  Excellent service from point of order to fitti...   \n",
      "10131  Seamless, well managed at both ends. I would r...   \n",
      "\n",
      "                                               subthemes  \\\n",
      "0       garage service positive,ease of booking positive   \n",
      "1       garage service positive,value for money positive   \n",
      "2                               value for money positive   \n",
      "3                               ease of booking positive   \n",
      "4      location positive,value for money positive,eas...   \n",
      "...                                                  ...   \n",
      "10127  refund positive,delivery punctuality positive,...   \n",
      "10128                         length of fitting positive   \n",
      "10129  location positive,delivery punctuality positiv...   \n",
      "10130                                                      \n",
      "10131                                                      \n",
      "\n",
      "                                          cleaned_review  \\\n",
      "0      tire deliver garage choicethe garage notify de...   \n",
      "1      easy tyre selection process competitive pricin...   \n",
      "2                              easy use good value money   \n",
      "3                         really easy convenient arrange   \n",
      "4      easy select tyre size arrange local fitting pr...   \n",
      "...                                                  ...   \n",
      "10127  order wrong tyre however redact arrange collec...   \n",
      "10128  good experience first time use redact harborne...   \n",
      "10129  order tyre need line book specify time local g...   \n",
      "10130  excellent service point order fit complaint thank   \n",
      "10131           seamless well manage end would recommend   \n",
      "\n",
      "                                     subtheme_sentiments  \n",
      "0                                 {'neutral': 'neutral'}  \n",
      "1      {'selection process': 'positive', 'competitive...  \n",
      "2                                 {'neutral': 'neutral'}  \n",
      "3                                 {'neutral': 'neutral'}  \n",
      "4                                  {'price': 'positive'}  \n",
      "...                                                  ...  \n",
      "10127  {'excellent service': 'positive', 'refund': 'p...  \n",
      "10128                             {'neutral': 'neutral'}  \n",
      "10129                              {'price': 'positive'}  \n",
      "10130                  {'excellent service': 'positive'}  \n",
      "10131                          {'recommend': 'positive'}  \n",
      "\n",
      "[10132 rows x 4 columns]\n"
     ]
    }
   ],
   "source": [
    "import pandas as pd\n",
    "import re\n",
    "from nltk.corpus import stopwords\n",
    "from nltk.tokenize import word_tokenize\n",
    "from vaderSentiment.vaderSentiment import SentimentIntensityAnalyzer\n",
    "import csv\n",
    "\n",
    "# Initialize VADER sentiment analyzer\n",
    "analyzer = SentimentIntensityAnalyzer()\n",
    "\n",
    "# Extended predefined list of subthemes (keywords) with variations\n",
    "predefined_subthemes = [\n",
    "    'excellent service', 'garage service', 'ease of booking', 'value for money',\n",
    "    'delivery punctuality', 'refund', 'location', 'length of fitting',\n",
    "    'customer service', 'price', 'quality', 'convenience', 'selection process',\n",
    "    'competitive pricing', 'no complaints', 'thank you', 'good service',\n",
    "    'polite staff', 'great prices', 'good prices', 'well managed', 'recommend'\n",
    "]\n",
    "\n",
    "# Define a function to preprocess text\n",
    "def preprocess_text(text):\n",
    "    # Remove punctuation\n",
    "    text = re.sub(r'[^\\w\\s]', '', text)\n",
    "    # Convert to lowercase\n",
    "    text = text.lower()\n",
    "    # Tokenize text\n",
    "    tokens = word_tokenize(text)\n",
    "    # Remove stopwords\n",
    "    stop_words = set(stopwords.words('english'))\n",
    "    tokens = [word for word in tokens if word not in stop_words]\n",
    "    # Lemmatize tokens\n",
    "    lemmatized_tokens = [token.lemma_ for token in nlp(' '.join(tokens))]\n",
    "    return ' '.join(lemmatized_tokens)\n",
    "\n",
    "# Define a function to extract subthemes from text using predefined list\n",
    "def extract_subthemes(text):\n",
    "    subthemes = []\n",
    "    for subtheme in predefined_subthemes:\n",
    "        if subtheme.lower() in text.lower():\n",
    "            subthemes.append(subtheme)\n",
    "    return subthemes\n",
    "\n",
    "# Define a function to analyze sentiment\n",
    "def analyze_sentiment(text):\n",
    "    sentiment_score = analyzer.polarity_scores(text)\n",
    "    if sentiment_score['compound'] >= 0.05:\n",
    "        return 'positive'\n",
    "    elif sentiment_score['compound'] <= -0.05:\n",
    "        return 'negative'\n",
    "    else:\n",
    "        return 'neutral'\n",
    "\n",
    "# Define a function to perform subtheme sentiment analysis\n",
    "def subtheme_sentiment_analysis(text):\n",
    "    subthemes = extract_subthemes(text)\n",
    "    sentiments = {}\n",
    "    for subtheme in subthemes:\n",
    "        # Check the whole text sentiment if the subtheme is mentioned\n",
    "        sentiment = analyze_sentiment(text)\n",
    "        sentiments[subtheme] = sentiment\n",
    "    if not sentiments:  # If no subthemes found, assign default sentiment\n",
    "        sentiments['neutral'] = 'neutral'\n",
    "    return sentiments\n",
    "\n",
    "# Read the CSV file using the csv module with QUOTE_MINIMAL\n",
    "data = []\n",
    "with open('Evaluation-dataset.csv', 'r') as f:\n",
    "    reader = csv.reader(f, quoting=csv.QUOTE_MINIMAL)\n",
    "    for row in reader:\n",
    "        if len(row) > 1:\n",
    "            review = row[0].strip()\n",
    "            subthemes = ','.join(row[1:]).strip(',')  # Remove trailing commas\n",
    "        else:\n",
    "            review = row[0].strip()\n",
    "            subthemes = \"\"\n",
    "        data.append([review, subthemes])\n",
    "\n",
    "# Convert the data to a DataFrame\n",
    "df = pd.DataFrame(data, columns=['review', 'subthemes'])\n",
    "\n",
    "# Apply preprocessing to the review column\n",
    "df['cleaned_review'] = df['review'].apply(preprocess_text)\n",
    "\n",
    "# Apply subtheme sentiment analysis to the cleaned review column\n",
    "df['subtheme_sentiments'] = df['cleaned_review'].apply(subtheme_sentiment_analysis)\n",
    "\n",
    "print(df)"
   ]
  },
  {
   "cell_type": "markdown",
   "metadata": {},
   "source": []
  },
  {
   "cell_type": "markdown",
   "metadata": {},
   "source": [
    "# Evaluation \n"
   ]
  },
  {
   "cell_type": "code",
   "execution_count": 5,
   "metadata": {},
   "outputs": [
    {
     "name": "stdout",
     "output_type": "stream",
     "text": [
      "Precision: 0.9389038007686257\n",
      "Recall: 0.5974346324617662\n",
      "F1-score: 0.6875254030280584\n"
     ]
    }
   ],
   "source": [
    "from sklearn.metrics import precision_score, recall_score, f1_score\n",
    "from sklearn.model_selection import train_test_split\n",
    "\n",
    "# Split your data into training and testing sets\n",
    "train_df, test_df = train_test_split(df, test_size=0.2, random_state=42)\n",
    "\n",
    "# Apply your approach to the test dataset\n",
    "test_pred = test_df['cleaned_review'].apply(subtheme_sentiment_analysis)\n",
    "\n",
    "# Convert the predicted sentiments to a list of labels\n",
    "test_true = []\n",
    "test_labels = []\n",
    "for review, subthemes in zip(test_df['review'], test_df['subthemes']):\n",
    "    true_label = analyze_sentiment(review)\n",
    "    test_true.append(true_label)\n",
    "    pred = subtheme_sentiment_analysis(review)\n",
    "    test_labels.append(list(pred.values())[0])\n",
    "\n",
    "# Calculate precision, recall, and F1-score\n",
    "precision = precision_score(test_true, test_labels, average='weighted')\n",
    "recall = recall_score(test_true, test_labels, average='weighted')\n",
    "f1 = f1_score(test_true, test_labels, average='weighted')\n",
    "\n",
    "print(\"Precision:\", precision)\n",
    "print(\"Recall:\", recall)\n",
    "print(\"F1-score:\", f1)"
   ]
  },
  {
   "cell_type": "code",
   "execution_count": 12,
   "metadata": {},
   "outputs": [
    {
     "data": {
      "image/png": "[encoded data removed]",
      "text/plain": [
       "<Figure size 640x480 with 1 Axes>"
      ]
     },
     "metadata": {},
     "output_type": "display_data"
    }
   ],
   "source": [
    "import matplotlib.pyplot as plt\n",
    "\n",
    "# Create a figure and axis\n",
    "fig, ax = plt.subplots()\n",
    "\n",
    "# Define the metrics and their values\n",
    "metrics = ['Precision', 'Recall', 'F1-score']\n",
    "values = [precision, recall, f1]\n",
    "\n",
    "# Create a bar chart\n",
    "ax.bar(metrics, values)\n",
    "\n",
    "# Set the title and labels\n",
    "ax.set_title('Model Performance Metrics')\n",
    "ax.set_xlabel('Metric')\n",
    "ax.set_ylabel('Value')\n",
    "\n",
    "# Show the plot\n",
    "plt.show()"
   ]
  },
  {
   "cell_type": "code",
   "execution_count": 13,
   "metadata": {},
   "outputs": [
    {
     "data": {
      "application/vnd.plotly.v1+json": {
       "config": {
        "plotlyServerURL": "https://plot.ly"
       },
       "data": [
        {
         "alignmentgroup": "True",
         "hovertemplate": "Metric=%{x}<br>Value=%{y}<extra></extra>",
         "legendgroup": "",
         "marker": {
          "color": "#636efa",
          "pattern": {
           "shape": ""
          }
         },
         "name": "",
         "offsetgroup": "",
         "orientation": "v",
         "showlegend": false,
         "textposition": "auto",
         "type": "bar",
         "x": [
          "Precision",
          "Recall",
          "F1-score"
         ],
         "xaxis": "x",
         "y": [
          0.9389038007686257,
          0.5974346324617662,
          0.6875254030280584
         ],
         "yaxis": "y"
        }
       ],
       "layout": {
        "barmode": "relative",
        "legend": {
         "tracegroupgap": 0
        },
        "template": {
         "data": {
          "bar": [
           {
            "error_x": {
             "color": "#2a3f5f"
            },
            "error_y": {
             "color": "#2a3f5f"
            },
            "marker": {
             "line": {
              "color": "#E5ECF6",
              "width": 0.5
             },
             "pattern": {
              "fillmode": "overlay",
              "size": 10,
              "solidity": 0.2
             }
            },
            "type": "bar"
           }
          ],
          "barpolar": [
           {
            "marker": {
             "line": {
              "color": "#E5ECF6",
              "width": 0.5
             },
             "pattern": {
              "fillmode": "overlay",
              "size": 10,
              "solidity": 0.2
             }
            },
            "type": "barpolar"
           }
          ],
          "carpet": [
           {
            "aaxis": {
             "endlinecolor": "#2a3f5f",
             "gridcolor": "white",
             "linecolor": "white",
             "minorgridcolor": "white",
             "startlinecolor": "#2a3f5f"
            },
            "baxis": {
             "endlinecolor": "#2a3f5f",
             "gridcolor": "white",
             "linecolor": "white",
             "minorgridcolor": "white",
             "startlinecolor": "#2a3f5f"
            },
            "type": "carpet"
           }
          ],
          "choropleth": [
           {
            "colorbar": {
             "outlinewidth": 0,
             "ticks": ""
            },
            "type": "choropleth"
           }
          ],
          "contour": [
           {
            "colorbar": {
             "outlinewidth": 0,
             "ticks": ""
            },
            "colorscale": [
             [
              0,
              "#0d0887"
             ],
             [
              0.1111111111111111,
              "#46039f"
             ],
             [
              0.2222222222222222,
              "#7201a8"
             ],
             [
              0.3333333333333333,
              "#9c179e"
             ],
             [
              0.4444444444444444,
              "#bd3786"
             ],
             [
              0.5555555555555556,
              "#d8576b"
             ],
             [
              0.6666666666666666,
              "#ed7953"
             ],
             [
              0.7777777777777778,
              "#fb9f3a"
             ],
             [
              0.8888888888888888,
              "#fdca26"
             ],
             [
              1,
              "#f0f921"
             ]
            ],
            "type": "contour"
           }
          ],
          "contourcarpet": [
           {
            "colorbar": {
             "outlinewidth": 0,
             "ticks": ""
            },
            "type": "contourcarpet"
           }
          ],
          "heatmap": [
           {
            "colorbar": {
             "outlinewidth": 0,
             "ticks": ""
            },
            "colorscale": [
             [
              0,
              "#0d0887"
             ],
             [
              0.1111111111111111,
              "#46039f"
             ],
             [
              0.2222222222222222,
              "#7201a8"
             ],
             [
              0.3333333333333333,
              "#9c179e"
             ],
             [
              0.4444444444444444,
              "#bd3786"
             ],
             [
              0.5555555555555556,
              "#d8576b"
             ],
             [
              0.6666666666666666,
              "#ed7953"
             ],
             [
              0.7777777777777778,
              "#fb9f3a"
             ],
             [
              0.8888888888888888,
              "#fdca26"
             ],
             [
              1,
              "#f0f921"
             ]
            ],
            "type": "heatmap"
           }
          ],
          "heatmapgl": [
           {
            "colorbar": {
             "outlinewidth": 0,
             "ticks": ""
            },
            "colorscale": [
             [
              0,
              "#0d0887"
             ],
             [
              0.1111111111111111,
              "#46039f"
             ],
             [
              0.2222222222222222,
              "#7201a8"
             ],
             [
              0.3333333333333333,
              "#9c179e"
             ],
             [
              0.4444444444444444,
              "#bd3786"
             ],
             [
              0.5555555555555556,
              "#d8576b"
             ],
             [
              0.6666666666666666,
              "#ed7953"
             ],
             [
              0.7777777777777778,
              "#fb9f3a"
             ],
             [
              0.8888888888888888,
              "#fdca26"
             ],
             [
              1,
              "#f0f921"
             ]
            ],
            "type": "heatmapgl"
           }
          ],
          "histogram": [
           {
            "marker": {
             "pattern": {
              "fillmode": "overlay",
              "size": 10,
              "solidity": 0.2
             }
            },
            "type": "histogram"
           }
          ],
          "histogram2d": [
           {
            "colorbar": {
             "outlinewidth": 0,
             "ticks": ""
            },
            "colorscale": [
             [
              0,
              "#0d0887"
             ],
             [
              0.1111111111111111,
              "#46039f"
             ],
             [
              0.2222222222222222,
              "#7201a8"
             ],
             [
              0.3333333333333333,
              "#9c179e"
             ],
             [
              0.4444444444444444,
              "#bd3786"
             ],
             [
              0.5555555555555556,
              "#d8576b"
             ],
             [
              0.6666666666666666,
              "#ed7953"
             ],
             [
              0.7777777777777778,
              "#fb9f3a"
             ],
             [
              0.8888888888888888,
              "#fdca26"
             ],
             [
              1,
              "#f0f921"
             ]
            ],
            "type": "histogram2d"
           }
          ],
          "histogram2dcontour": [
           {
            "colorbar": {
             "outlinewidth": 0,
             "ticks": ""
            },
            "colorscale": [
             [
              0,
              "#0d0887"
             ],
             [
              0.1111111111111111,
              "#46039f"
             ],
             [
              0.2222222222222222,
              "#7201a8"
             ],
             [
              0.3333333333333333,
              "#9c179e"
             ],
             [
              0.4444444444444444,
              "#bd3786"
             ],
             [
              0.5555555555555556,
              "#d8576b"
             ],
             [
              0.6666666666666666,
              "#ed7953"
             ],
             [
              0.7777777777777778,
              "#fb9f3a"
             ],
             [
              0.8888888888888888,
              "#fdca26"
             ],
             [
              1,
              "#f0f921"
             ]
            ],
            "type": "histogram2dcontour"
           }
          ],
          "mesh3d": [
           {
            "colorbar": {
             "outlinewidth": 0,
             "ticks": ""
            },
            "type": "mesh3d"
           }
          ],
          "parcoords": [
           {
            "line": {
             "colorbar": {
              "outlinewidth": 0,
              "ticks": ""
             }
            },
            "type": "parcoords"
           }
          ],
          "pie": [
           {
            "automargin": true,
            "type": "pie"
           }
          ],
          "scatter": [
           {
            "fillpattern": {
             "fillmode": "overlay",
             "size": 10,
             "solidity": 0.2
            },
            "type": "scatter"
           }
          ],
          "scatter3d": [
           {
            "line": {
             "colorbar": {
              "outlinewidth": 0,
              "ticks": ""
             }
            },
            "marker": {
             "colorbar": {
              "outlinewidth": 0,
              "ticks": ""
             }
            },
            "type": "scatter3d"
           }
          ],
          "scattercarpet": [
           {
            "marker": {
             "colorbar": {
              "outlinewidth": 0,
              "ticks": ""
             }
            },
            "type": "scattercarpet"
           }
          ],
          "scattergeo": [
           {
            "marker": {
             "colorbar": {
              "outlinewidth": 0,
              "ticks": ""
             }
            },
            "type": "scattergeo"
           }
          ],
          "scattergl": [
           {
            "marker": {
             "colorbar": {
              "outlinewidth": 0,
              "ticks": ""
             }
            },
            "type": "scattergl"
           }
          ],
          "scattermapbox": [
           {
            "marker": {
             "colorbar": {
              "outlinewidth": 0,
              "ticks": ""
             }
            },
            "type": "scattermapbox"
           }
          ],
          "scatterpolar": [
           {
            "marker": {
             "colorbar": {
              "outlinewidth": 0,
              "ticks": ""
             }
            },
            "type": "scatterpolar"
           }
          ],
          "scatterpolargl": [
           {
            "marker": {
             "colorbar": {
              "outlinewidth": 0,
              "ticks": ""
             }
            },
            "type": "scatterpolargl"
           }
          ],
          "scatterternary": [
           {
            "marker": {
             "colorbar": {
              "outlinewidth": 0,
              "ticks": ""
             }
            },
            "type": "scatterternary"
           }
          ],
          "surface": [
           {
            "colorbar": {
             "outlinewidth": 0,
             "ticks": ""
            },
            "colorscale": [
             [
              0,
              "#0d0887"
             ],
             [
              0.1111111111111111,
              "#46039f"
             ],
             [
              0.2222222222222222,
              "#7201a8"
             ],
             [
              0.3333333333333333,
              "#9c179e"
             ],
             [
              0.4444444444444444,
              "#bd3786"
             ],
             [
              0.5555555555555556,
              "#d8576b"
             ],
             [
              0.6666666666666666,
              "#ed7953"
             ],
             [
              0.7777777777777778,
              "#fb9f3a"
             ],
             [
              0.8888888888888888,
              "#fdca26"
             ],
             [
              1,
              "#f0f921"
             ]
            ],
            "type": "surface"
           }
          ],
          "table": [
           {
            "cells": {
             "fill": {
              "color": "#EBF0F8"
             },
             "line": {
              "color": "white"
             }
            },
            "header": {
             "fill": {
              "color": "#C8D4E3"
             },
             "line": {
              "color": "white"
             }
            },
            "type": "table"
           }
          ]
         },
         "layout": {
          "annotationdefaults": {
           "arrowcolor": "#2a3f5f",
           "arrowhead": 0,
           "arrowwidth": 1
          },
          "autotypenumbers": "strict",
          "coloraxis": {
           "colorbar": {
            "outlinewidth": 0,
            "ticks": ""
           }
          },
          "colorscale": {
           "diverging": [
            [
             0,
             "#8e0152"
            ],
            [
             0.1,
             "#c51b7d"
            ],
            [
             0.2,
             "#de77ae"
            ],
            [
             0.3,
             "#f1b6da"
            ],
            [
             0.4,
             "#fde0ef"
            ],
            [
             0.5,
             "#f7f7f7"
            ],
            [
             0.6,
             "#e6f5d0"
            ],
            [
             0.7,
             "#b8e186"
            ],
            [
             0.8,
             "#7fbc41"
            ],
            [
             0.9,
             "#4d9221"
            ],
            [
             1,
             "#276419"
            ]
           ],
           "sequential": [
            [
             0,
             "#0d0887"
            ],
            [
             0.1111111111111111,
             "#46039f"
            ],
            [
             0.2222222222222222,
             "#7201a8"
            ],
            [
             0.3333333333333333,
             "#9c179e"
            ],
            [
             0.4444444444444444,
             "#bd3786"
            ],
            [
             0.5555555555555556,
             "#d8576b"
            ],
            [
             0.6666666666666666,
             "#ed7953"
            ],
            [
             0.7777777777777778,
             "#fb9f3a"
            ],
            [
             0.8888888888888888,
             "#fdca26"
            ],
            [
             1,
             "#f0f921"
            ]
           ],
           "sequentialminus": [
            [
             0,
             "#0d0887"
            ],
            [
             0.1111111111111111,
             "#46039f"
            ],
            [
             0.2222222222222222,
             "#7201a8"
            ],
            [
             0.3333333333333333,
             "#9c179e"
            ],
            [
             0.4444444444444444,
             "#bd3786"
            ],
            [
             0.5555555555555556,
             "#d8576b"
            ],
            [
             0.6666666666666666,
             "#ed7953"
            ],
            [
             0.7777777777777778,
             "#fb9f3a"
            ],
            [
             0.8888888888888888,
             "#fdca26"
            ],
            [
             1,
             "#f0f921"
            ]
           ]
          },
          "colorway": [
           "#636efa",
           "#EF553B",
           "#00cc96",
           "#ab63fa",
           "#FFA15A",
           "#19d3f3",
           "#FF6692",
           "#B6E880",
           "#FF97FF",
           "#FECB52"
          ],
          "font": {
           "color": "#2a3f5f"
          },
          "geo": {
           "bgcolor": "white",
           "lakecolor": "white",
           "landcolor": "#E5ECF6",
           "showlakes": true,
           "showland": true,
           "subunitcolor": "white"
          },
          "hoverlabel": {
           "align": "left"
          },
          "hovermode": "closest",
          "mapbox": {
           "style": "light"
          },
          "paper_bgcolor": "white",
          "plot_bgcolor": "#E5ECF6",
          "polar": {
           "angularaxis": {
            "gridcolor": "white",
            "linecolor": "white",
            "ticks": ""
           },
           "bgcolor": "#E5ECF6",
           "radialaxis": {
            "gridcolor": "white",
            "linecolor": "white",
            "ticks": ""
           }
          },
          "scene": {
           "xaxis": {
            "backgroundcolor": "#E5ECF6",
            "gridcolor": "white",
            "gridwidth": 2,
            "linecolor": "white",
            "showbackground": true,
            "ticks": "",
            "zerolinecolor": "white"
           },
           "yaxis": {
            "backgroundcolor": "#E5ECF6",
            "gridcolor": "white",
            "gridwidth": 2,
            "linecolor": "white",
            "showbackground": true,
            "ticks": "",
            "zerolinecolor": "white"
           },
           "zaxis": {
            "backgroundcolor": "#E5ECF6",
            "gridcolor": "white",
            "gridwidth": 2,
            "linecolor": "white",
            "showbackground": true,
            "ticks": "",
            "zerolinecolor": "white"
           }
          },
          "shapedefaults": {
           "line": {
            "color": "#2a3f5f"
           }
          },
          "ternary": {
           "aaxis": {
            "gridcolor": "white",
            "linecolor": "white",
            "ticks": ""
           },
           "baxis": {
            "gridcolor": "white",
            "linecolor": "white",
            "ticks": ""
           },
           "bgcolor": "#E5ECF6",
           "caxis": {
            "gridcolor": "white",
            "linecolor": "white",
            "ticks": ""
           }
          },
          "title": {
           "x": 0.05
          },
          "xaxis": {
           "automargin": true,
           "gridcolor": "white",
           "linecolor": "white",
           "ticks": "",
           "title": {
            "standoff": 15
           },
           "zerolinecolor": "white",
           "zerolinewidth": 2
          },
          "yaxis": {
           "automargin": true,
           "gridcolor": "white",
           "linecolor": "white",
           "ticks": "",
           "title": {
            "standoff": 15
           },
           "zerolinecolor": "white",
           "zerolinewidth": 2
          }
         }
        },
        "title": {
         "text": "Model Performance Metrics"
        },
        "xaxis": {
         "anchor": "y",
         "domain": [
          0,
          1
         ],
         "title": {
          "text": "Metric"
         }
        },
        "yaxis": {
         "anchor": "x",
         "domain": [
          0,
          1
         ],
         "title": {
          "text": "Value"
         }
        }
       }
      }
     },
     "metadata": {},
     "output_type": "display_data"
    }
   ],
   "source": [
    "import plotly.express as px\n",
    "\n",
    "# Create a figure\n",
    "fig = px.bar(x=metrics, y=values, title='Model Performance Metrics', labels={'x': 'Metric', 'y': 'Value'})\n",
    "\n",
    "# Show the plot\n",
    "fig.show()"
   ]
  }
 ],
 "metadata": {
  "kernelspec": {
   "display_name": "Python 3",
   "language": "python",
   "name": "python3"
  },
  "language_info": {
   "codemirror_mode": {
    "name": "ipython",
    "version": 3
   },
   "file_extension": ".py",
   "mimetype": "text/x-python",
   "name": "python",
   "nbconvert_exporter": "python",
   "pygments_lexer": "ipython3",
   "version": "3.12.3"
  }
 },
 "nbformat": 4,
 "nbformat_minor": 2
}
